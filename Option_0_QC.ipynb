{
  "nbformat": 4,
  "nbformat_minor": 0,
  "metadata": {
    "colab": {
      "name": "Option 0 QC",
      "provenance": [],
      "collapsed_sections": [],
      "include_colab_link": true
    },
    "kernelspec": {
      "name": "python3",
      "display_name": "Python 3"
    }
  },
  "cells": [
    {
      "cell_type": "markdown",
      "metadata": {
        "id": "view-in-github",
        "colab_type": "text"
      },
      "source": [
        "<a href=\"https://colab.research.google.com/github/mmw5yw/MadelineW/blob/master/Option_0_QC.ipynb\" target=\"_parent\"><img src=\"https://colab.research.google.com/assets/colab-badge.svg\" alt=\"Open In Colab\"/></a>"
      ]
    },
    {
      "cell_type": "markdown",
      "metadata": {
        "id": "2Tt8_ZmOKnEw",
        "colab_type": "text"
      },
      "source": [
        "# **Final Project Madeline Williams**\n",
        "\n",
        "mmw5yw\n",
        "\n",
        "Final project for Quantified Cognition\n",
        "\n",
        "**Option 0**: I chose this option because I have become comfortable with the data and code for this data set. I wanted to see if I could apply concepts from this class to the data to further analyze it with statistical models.\n",
        "\n",
        "I used data set aa-2 from course Computational Neuroscience. This is not my own data, but was provided to me.\n",
        "\n",
        "The researchers who obtained this data are **Sarah M.N. Wolley** and **Thane Fremouw**.\n"
      ]
    },
    {
      "cell_type": "markdown",
      "metadata": {
        "id": "dCDEtMIGKogR",
        "colab_type": "text"
      },
      "source": [
        "### **Introduction**\n",
        "\n",
        "The researchers who gathered this data were interested in the neural computations associated with zebra finches as their neurons respond to different types of sound stimuli that range between natural and unnatural sounds.\n",
        "\n",
        "The overarching goal of the project is to assess the finches’ optimization or preference for a certain song type by evaluating neuron spikes in their song control system.\n",
        "\n",
        "The birds were tested for multiple anatomical brain regions:\n",
        "- Nucleus Oviodalis (OV)\n",
        "- Caudal Mesopallium (CM)\n",
        "- Primary Forebrain (from subareas L1, L2a, L2b, L3 and L)\n",
        "- Mesencephalicus lateral dorsalis (MLd)\n",
        "\n",
        "Each bird is tested with stimuli from two or all three different classes of sounds.\n",
        "\n",
        "The spiking response was recorded for the stimuli across multiple trials."
      ]
    },
    {
      "cell_type": "markdown",
      "metadata": {
        "id": "i61z3dbqKurC",
        "colab_type": "text"
      },
      "source": [
        "### **Classes of sounds**\n",
        "\n",
        "The sounds used to stimulate the Zebra Finches ranged from least natural, medium, most natural.\n",
        "\n",
        "These are listed below in order of most to least natural:\n",
        "- Conspecific: natural birdsong from Zebra Finches\n",
        "- Songrip: ripple stimuli with same modulation of song\n",
        "- Flatrip: modulation limited noise with flat modulation spectrum\n",
        "\n",
        "The Flatrip sound has the most white noise and is the most unnatural to the birds."
      ]
    },
    {
      "cell_type": "markdown",
      "metadata": {
        "id": "uqrxvW4nkw-_",
        "colab_type": "text"
      },
      "source": [
        "### **Hypothesis**\n",
        "\n",
        "I may expect to see a higher number of spikes for the conspecific stimuli, or the most natural sound stimuli, showing the finches have an affinity for natural song over white noise. \n",
        "\n",
        "This would make sense, since evolutionarily and biologically speaking, finches communicate with natural song and do not necessarily ever hear white noise in the wild.\n",
        "\n",
        "I would expect the finches neurological song system to be attuned to hearing natural song - to upkeep communication, nurturing, and learning in nature. "
      ]
    },
    {
      "cell_type": "markdown",
      "metadata": {
        "id": "DE2vhagxcIVL",
        "colab_type": "text"
      },
      "source": [
        "### **Importing the Data**"
      ]
    },
    {
      "cell_type": "markdown",
      "metadata": {
        "id": "rN8KI09OK0Er",
        "colab_type": "text"
      },
      "source": [
        "- **First** import all the necessary accessories"
      ]
    },
    {
      "cell_type": "code",
      "metadata": {
        "id": "F7jo7NnrK3Ew",
        "colab_type": "code",
        "outputId": "7ff202be-710a-463d-b2e4-21d3ea41ca2b",
        "colab": {
          "base_uri": "https://localhost:8080/",
          "height": 683
        }
      },
      "source": [
        "# I wrote this notebook on a new Google Colab document so I could run these accessories\n",
        "!pip install git+https://github.com/arviz-devs/arviz\n",
        "!wget https://raw.githubusercontent.com/compmem/QuantCog/2020_Spring/notebooks/dists.py\n"
      ],
      "execution_count": 319,
      "outputs": [
        {
          "output_type": "stream",
          "text": [
            "Collecting git+https://github.com/arviz-devs/arviz\n",
            "  Cloning https://github.com/arviz-devs/arviz to /tmp/pip-req-build-5e491dyl\n",
            "  Running command git clone -q https://github.com/arviz-devs/arviz /tmp/pip-req-build-5e491dyl\n",
            "  Installing build dependencies ... \u001b[?25l\u001b[?25hdone\n",
            "  Getting requirements to build wheel ... \u001b[?25l\u001b[?25hdone\n",
            "    Preparing wheel metadata ... \u001b[?25l\u001b[?25hdone\n",
            "Requirement already satisfied (use --upgrade to upgrade): arviz==0.7.0 from git+https://github.com/arviz-devs/arviz in /usr/local/lib/python3.6/dist-packages\n",
            "Requirement already satisfied: pandas>=0.23 in /usr/local/lib/python3.6/dist-packages (from arviz==0.7.0) (1.0.3)\n",
            "Requirement already satisfied: numpy>=1.12 in /usr/local/lib/python3.6/dist-packages (from arviz==0.7.0) (1.18.3)\n",
            "Requirement already satisfied: xarray>=0.11 in /usr/local/lib/python3.6/dist-packages (from arviz==0.7.0) (0.15.1)\n",
            "Requirement already satisfied: scipy>=0.19 in /usr/local/lib/python3.6/dist-packages (from arviz==0.7.0) (1.4.1)\n",
            "Requirement already satisfied: matplotlib>=3.0 in /usr/local/lib/python3.6/dist-packages (from arviz==0.7.0) (3.2.1)\n",
            "Requirement already satisfied: netcdf4 in /usr/local/lib/python3.6/dist-packages (from arviz==0.7.0) (1.5.3)\n",
            "Requirement already satisfied: packaging in /usr/local/lib/python3.6/dist-packages (from arviz==0.7.0) (20.3)\n",
            "Requirement already satisfied: pytz>=2017.2 in /usr/local/lib/python3.6/dist-packages (from pandas>=0.23->arviz==0.7.0) (2018.9)\n",
            "Requirement already satisfied: python-dateutil>=2.6.1 in /usr/local/lib/python3.6/dist-packages (from pandas>=0.23->arviz==0.7.0) (2.8.1)\n",
            "Requirement already satisfied: setuptools>=41.2 in /usr/local/lib/python3.6/dist-packages (from xarray>=0.11->arviz==0.7.0) (46.1.3)\n",
            "Requirement already satisfied: kiwisolver>=1.0.1 in /usr/local/lib/python3.6/dist-packages (from matplotlib>=3.0->arviz==0.7.0) (1.2.0)\n",
            "Requirement already satisfied: cycler>=0.10 in /usr/local/lib/python3.6/dist-packages (from matplotlib>=3.0->arviz==0.7.0) (0.10.0)\n",
            "Requirement already satisfied: pyparsing!=2.0.4,!=2.1.2,!=2.1.6,>=2.0.1 in /usr/local/lib/python3.6/dist-packages (from matplotlib>=3.0->arviz==0.7.0) (2.4.7)\n",
            "Requirement already satisfied: cftime in /usr/local/lib/python3.6/dist-packages (from netcdf4->arviz==0.7.0) (1.1.2)\n",
            "Requirement already satisfied: six in /usr/local/lib/python3.6/dist-packages (from packaging->arviz==0.7.0) (1.12.0)\n",
            "Building wheels for collected packages: arviz\n",
            "  Building wheel for arviz (PEP 517) ... \u001b[?25l\u001b[?25hdone\n",
            "  Created wheel for arviz: filename=arviz-0.7.0-cp36-none-any.whl size=2635798 sha256=2c4a25f571152664e7461b52531f53aae2becdbc7c80f3940b8cbb86f4c4c67d\n",
            "  Stored in directory: /tmp/pip-ephem-wheel-cache-z_gm9kv9/wheels/93/b7/76/fe5931eb8154ca105ee91ddc249c6e1eaaa7b06988bdf8a400\n",
            "Successfully built arviz\n",
            "--2020-05-08 20:46:12--  https://raw.githubusercontent.com/compmem/QuantCog/2020_Spring/notebooks/dists.py\n",
            "Resolving raw.githubusercontent.com (raw.githubusercontent.com)... 151.101.0.133, 151.101.64.133, 151.101.128.133, ...\n",
            "Connecting to raw.githubusercontent.com (raw.githubusercontent.com)|151.101.0.133|:443... connected.\n",
            "HTTP request sent, awaiting response... 200 OK\n",
            "Length: 1077 (1.1K) [text/plain]\n",
            "Saving to: ‘dists.py.6’\n",
            "\n",
            "dists.py.6          100%[===================>]   1.05K  --.-KB/s    in 0s      \n",
            "\n",
            "2020-05-08 20:46:12 (46.5 MB/s) - ‘dists.py.6’ saved [1077/1077]\n",
            "\n"
          ],
          "name": "stdout"
        }
      ]
    },
    {
      "cell_type": "code",
      "metadata": {
        "id": "Iarj2lKPLIrZ",
        "colab_type": "code",
        "colab": {}
      },
      "source": [
        "%matplotlib inline\n",
        "\n",
        "import numpy as np\n",
        "import pandas as pd\n",
        "from scipy import stats\n",
        "import os\n",
        "import matplotlib.pyplot as plt; plt.rcdefaults()\n",
        "import pymc3 as pm\n",
        "import dists\n",
        "import requests\n",
        "import io\n",
        "import theano.tensor as T\n",
        "import arviz as az\n",
        "from sklearn import preprocessing\n",
        "import seaborn as sns\n"
      ],
      "execution_count": 0,
      "outputs": []
    },
    {
      "cell_type": "markdown",
      "metadata": {
        "id": "S27Mi4AZLgrS",
        "colab_type": "text"
      },
      "source": [
        "- **Next** import the cell regions library of data.\n",
        "- This is a csv. titled cell_regions_excel that is uploaded to GitHub"
      ]
    },
    {
      "cell_type": "code",
      "metadata": {
        "id": "6R9_5R6vOLh1",
        "colab_type": "code",
        "colab": {}
      },
      "source": [
        "# Here I have uploaded the cell regions into pandas so I can sort through the birds and the corresponding tested brain regions\n",
        "\n",
        "cell_regions = pd.read_csv('https://raw.githubusercontent.com/mmw5yw/MadelineW/master/cell_regions_excel.csv')\n",
        "\n",
        "# Example of how to capture only the birds tested for brain region OV\n",
        "\n",
        "cell_regions_OV = cell_regions[cell_regions['L1']=='OV']"
      ],
      "execution_count": 0,
      "outputs": []
    },
    {
      "cell_type": "markdown",
      "metadata": {
        "id": "tqdfRQiAS1ND",
        "colab_type": "text"
      },
      "source": [
        "- Now I have all the data in a pandas file of my choosing. \n",
        "\n",
        "- I chose brain region **Nucelus Oviodalis** because it seemed significant within the reading. \n",
        "\n",
        "- The paper associates a uniqueness with the OV brain region and the data set - given that there is importance in song learning for this region in finches. The researchers are unsure of its ability in determining preference between different types of song stimuli.\n",
        "\n",
        "- The exact words in the research were \"prevalent tuning to intermediate, spectral, and temporal modulations is unique to OV\" \n"
      ]
    },
    {
      "cell_type": "markdown",
      "metadata": {
        "id": "DhMxFHOLTHdK",
        "colab_type": "text"
      },
      "source": [
        "- I will want to focus on a specific bird for this brain region, and access the recorded spikes for each stimuli over trials."
      ]
    },
    {
      "cell_type": "code",
      "metadata": {
        "id": "IkbrF7VcOmFS",
        "colab_type": "code",
        "outputId": "48a480ea-02c6-443d-cbe3-0793d10903ba",
        "colab": {
          "base_uri": "https://localhost:8080/",
          "height": 34
        }
      },
      "source": [
        "from random import *\n",
        "\n",
        "# I am choosing a random bird from the list - just for fun\n",
        "# The length of the list of only OV birds is 59\n",
        "\n",
        "# Bird pupi0414_2 does not have data for flatrip stimuli, so if its index is chosen we need to 'reshuffle'\n",
        "y = randint(1,59)\n",
        "if y != 6:\n",
        "  x = y\n",
        "else:\n",
        "  print('Forbidden bird! Use this one instead:')\n",
        "\n",
        "random_bird = cell_regions_OV.values[x]\n",
        "\n",
        "# This is our randomized bird's name \n",
        "# It will be different each time so the data can stay fresh\n",
        "\n",
        "random_bird[0]"
      ],
      "execution_count": 630,
      "outputs": [
        {
          "output_type": "execute_result",
          "data": {
            "text/plain": [
              "'gr0965_4'"
            ]
          },
          "metadata": {
            "tags": []
          },
          "execution_count": 630
        }
      ]
    },
    {
      "cell_type": "markdown",
      "metadata": {
        "id": "7G_O4pV1X7cw",
        "colab_type": "text"
      },
      "source": [
        "- Upload the data from an excel file into a pandas dataframe\n",
        "\n",
        "- This is a .csv titled Birds_region_stim_count\n",
        "\n",
        "- This should include the chosen bird, corresponding brain region, stimuli, and the count of spikes for each trial.\n",
        "\n",
        "- I have already put the data into an excel spreadsheet GitHub, so it is accessible to pandas.\n",
        "\n",
        "- **Note:** one of the birds, pupi0414_2, does not have data for the flatrip stimuli."
      ]
    },
    {
      "cell_type": "code",
      "metadata": {
        "id": "sdfqIqN-gwgP",
        "colab_type": "code",
        "colab": {}
      },
      "source": [
        "bird = pd.read_csv('https://raw.githubusercontent.com/mmw5yw/MadelineW/master/Birds_region_stim_count.csv')\n",
        "\n",
        "columns = ('Spike', 'Brain Region', 'Stimuli', 'Count')"
      ],
      "execution_count": 0,
      "outputs": []
    },
    {
      "cell_type": "markdown",
      "metadata": {
        "id": "0GxqkRryQFf6",
        "colab_type": "text"
      },
      "source": [
        "- Now that the data is loaded into pandas, we can specify which bird and which stimulus we want to focus on."
      ]
    },
    {
      "cell_type": "code",
      "metadata": {
        "id": "m4O-Z3o1gyiN",
        "colab_type": "code",
        "outputId": "81b61aff-4d0c-42f6-ee35-7c9262ac0cb0",
        "colab": {
          "base_uri": "https://localhost:8080/",
          "height": 669
        }
      },
      "source": [
        "# Specify the randomly chosen bird \n",
        "\n",
        "chosen_bird = bird[bird['Bird'] == random_bird[0]]\n",
        "\n",
        "# Now specify the chosen stimulus, this will be done twice for the conspecifc and the flatrip\n",
        "\n",
        "chosen_stim_con = chosen_bird[chosen_bird['Stimuli'] == 'conspecific']\n",
        "\n",
        "chosen_stim_con"
      ],
      "execution_count": 632,
      "outputs": [
        {
          "output_type": "execute_result",
          "data": {
            "text/html": [
              "<div>\n",
              "<style scoped>\n",
              "    .dataframe tbody tr th:only-of-type {\n",
              "        vertical-align: middle;\n",
              "    }\n",
              "\n",
              "    .dataframe tbody tr th {\n",
              "        vertical-align: top;\n",
              "    }\n",
              "\n",
              "    .dataframe thead th {\n",
              "        text-align: right;\n",
              "    }\n",
              "</style>\n",
              "<table border=\"1\" class=\"dataframe\">\n",
              "  <thead>\n",
              "    <tr style=\"text-align: right;\">\n",
              "      <th></th>\n",
              "      <th>Trial</th>\n",
              "      <th>Bird</th>\n",
              "      <th>Brain Region</th>\n",
              "      <th>Stimuli</th>\n",
              "      <th>Count</th>\n",
              "    </tr>\n",
              "  </thead>\n",
              "  <tbody>\n",
              "    <tr>\n",
              "      <th>1710</th>\n",
              "      <td>Spike 1</td>\n",
              "      <td>gr0965_4</td>\n",
              "      <td>OV</td>\n",
              "      <td>conspecific</td>\n",
              "      <td>367.0</td>\n",
              "    </tr>\n",
              "    <tr>\n",
              "      <th>1711</th>\n",
              "      <td>Spike 2</td>\n",
              "      <td>gr0965_4</td>\n",
              "      <td>OV</td>\n",
              "      <td>conspecific</td>\n",
              "      <td>316.0</td>\n",
              "    </tr>\n",
              "    <tr>\n",
              "      <th>1712</th>\n",
              "      <td>Spike 3</td>\n",
              "      <td>gr0965_4</td>\n",
              "      <td>OV</td>\n",
              "      <td>conspecific</td>\n",
              "      <td>335.0</td>\n",
              "    </tr>\n",
              "    <tr>\n",
              "      <th>1713</th>\n",
              "      <td>Spike 4</td>\n",
              "      <td>gr0965_4</td>\n",
              "      <td>OV</td>\n",
              "      <td>conspecific</td>\n",
              "      <td>315.0</td>\n",
              "    </tr>\n",
              "    <tr>\n",
              "      <th>1714</th>\n",
              "      <td>Spike 5</td>\n",
              "      <td>gr0965_4</td>\n",
              "      <td>OV</td>\n",
              "      <td>conspecific</td>\n",
              "      <td>303.0</td>\n",
              "    </tr>\n",
              "    <tr>\n",
              "      <th>1715</th>\n",
              "      <td>Spike 6</td>\n",
              "      <td>gr0965_4</td>\n",
              "      <td>OV</td>\n",
              "      <td>conspecific</td>\n",
              "      <td>394.0</td>\n",
              "    </tr>\n",
              "    <tr>\n",
              "      <th>1716</th>\n",
              "      <td>Spike 7</td>\n",
              "      <td>gr0965_4</td>\n",
              "      <td>OV</td>\n",
              "      <td>conspecific</td>\n",
              "      <td>413.0</td>\n",
              "    </tr>\n",
              "    <tr>\n",
              "      <th>1717</th>\n",
              "      <td>Spike 8</td>\n",
              "      <td>gr0965_4</td>\n",
              "      <td>OV</td>\n",
              "      <td>conspecific</td>\n",
              "      <td>359.0</td>\n",
              "    </tr>\n",
              "    <tr>\n",
              "      <th>1718</th>\n",
              "      <td>Spike 9</td>\n",
              "      <td>gr0965_4</td>\n",
              "      <td>OV</td>\n",
              "      <td>conspecific</td>\n",
              "      <td>347.0</td>\n",
              "    </tr>\n",
              "    <tr>\n",
              "      <th>1719</th>\n",
              "      <td>Spike 10</td>\n",
              "      <td>gr0965_4</td>\n",
              "      <td>OV</td>\n",
              "      <td>conspecific</td>\n",
              "      <td>338.0</td>\n",
              "    </tr>\n",
              "    <tr>\n",
              "      <th>1720</th>\n",
              "      <td>Spike 11</td>\n",
              "      <td>gr0965_4</td>\n",
              "      <td>OV</td>\n",
              "      <td>conspecific</td>\n",
              "      <td>440.0</td>\n",
              "    </tr>\n",
              "    <tr>\n",
              "      <th>1721</th>\n",
              "      <td>Spike 12</td>\n",
              "      <td>gr0965_4</td>\n",
              "      <td>OV</td>\n",
              "      <td>conspecific</td>\n",
              "      <td>374.0</td>\n",
              "    </tr>\n",
              "    <tr>\n",
              "      <th>1722</th>\n",
              "      <td>Spike 13</td>\n",
              "      <td>gr0965_4</td>\n",
              "      <td>OV</td>\n",
              "      <td>conspecific</td>\n",
              "      <td>396.0</td>\n",
              "    </tr>\n",
              "    <tr>\n",
              "      <th>1723</th>\n",
              "      <td>Spike 14</td>\n",
              "      <td>gr0965_4</td>\n",
              "      <td>OV</td>\n",
              "      <td>conspecific</td>\n",
              "      <td>301.0</td>\n",
              "    </tr>\n",
              "    <tr>\n",
              "      <th>1724</th>\n",
              "      <td>Spike 15</td>\n",
              "      <td>gr0965_4</td>\n",
              "      <td>OV</td>\n",
              "      <td>conspecific</td>\n",
              "      <td>388.0</td>\n",
              "    </tr>\n",
              "    <tr>\n",
              "      <th>1725</th>\n",
              "      <td>Spike 16</td>\n",
              "      <td>gr0965_4</td>\n",
              "      <td>OV</td>\n",
              "      <td>conspecific</td>\n",
              "      <td>345.0</td>\n",
              "    </tr>\n",
              "    <tr>\n",
              "      <th>1726</th>\n",
              "      <td>Spike 17</td>\n",
              "      <td>gr0965_4</td>\n",
              "      <td>OV</td>\n",
              "      <td>conspecific</td>\n",
              "      <td>340.0</td>\n",
              "    </tr>\n",
              "    <tr>\n",
              "      <th>1727</th>\n",
              "      <td>Spike 18</td>\n",
              "      <td>gr0965_4</td>\n",
              "      <td>OV</td>\n",
              "      <td>conspecific</td>\n",
              "      <td>415.0</td>\n",
              "    </tr>\n",
              "    <tr>\n",
              "      <th>1728</th>\n",
              "      <td>Spike 19</td>\n",
              "      <td>gr0965_4</td>\n",
              "      <td>OV</td>\n",
              "      <td>conspecific</td>\n",
              "      <td>356.0</td>\n",
              "    </tr>\n",
              "    <tr>\n",
              "      <th>1729</th>\n",
              "      <td>Spike 20</td>\n",
              "      <td>gr0965_4</td>\n",
              "      <td>OV</td>\n",
              "      <td>conspecific</td>\n",
              "      <td>329.0</td>\n",
              "    </tr>\n",
              "  </tbody>\n",
              "</table>\n",
              "</div>"
            ],
            "text/plain": [
              "         Trial      Bird Brain Region      Stimuli  Count\n",
              "1710   Spike 1  gr0965_4           OV  conspecific  367.0\n",
              "1711   Spike 2  gr0965_4           OV  conspecific  316.0\n",
              "1712   Spike 3  gr0965_4           OV  conspecific  335.0\n",
              "1713   Spike 4  gr0965_4           OV  conspecific  315.0\n",
              "1714   Spike 5  gr0965_4           OV  conspecific  303.0\n",
              "1715   Spike 6  gr0965_4           OV  conspecific  394.0\n",
              "1716   Spike 7  gr0965_4           OV  conspecific  413.0\n",
              "1717   Spike 8  gr0965_4           OV  conspecific  359.0\n",
              "1718   Spike 9  gr0965_4           OV  conspecific  347.0\n",
              "1719  Spike 10  gr0965_4           OV  conspecific  338.0\n",
              "1720  Spike 11  gr0965_4           OV  conspecific  440.0\n",
              "1721  Spike 12  gr0965_4           OV  conspecific  374.0\n",
              "1722  Spike 13  gr0965_4           OV  conspecific  396.0\n",
              "1723  Spike 14  gr0965_4           OV  conspecific  301.0\n",
              "1724  Spike 15  gr0965_4           OV  conspecific  388.0\n",
              "1725  Spike 16  gr0965_4           OV  conspecific  345.0\n",
              "1726  Spike 17  gr0965_4           OV  conspecific  340.0\n",
              "1727  Spike 18  gr0965_4           OV  conspecific  415.0\n",
              "1728  Spike 19  gr0965_4           OV  conspecific  356.0\n",
              "1729  Spike 20  gr0965_4           OV  conspecific  329.0"
            ]
          },
          "metadata": {
            "tags": []
          },
          "execution_count": 632
        }
      ]
    },
    {
      "cell_type": "code",
      "metadata": {
        "id": "T19GhPa5s-vW",
        "colab_type": "code",
        "outputId": "7152fc8c-f417-406c-8f64-034741f4a394",
        "colab": {
          "base_uri": "https://localhost:8080/",
          "height": 359
        }
      },
      "source": [
        "# Another for flatrip\n",
        "# Specify the randomly chosen bird \n",
        "\n",
        "chosen_bird = bird[bird['Bird'] == random_bird[0]]\n",
        "\n",
        "# Now specify the chosen stimulus, this will be done twice for the conspecifc and the flatrip\n",
        "\n",
        "chosen_stim_flat = chosen_bird[chosen_bird['Stimuli'] == 'flatrip']\n",
        "\n",
        "chosen_stim_flat"
      ],
      "execution_count": 633,
      "outputs": [
        {
          "output_type": "execute_result",
          "data": {
            "text/html": [
              "<div>\n",
              "<style scoped>\n",
              "    .dataframe tbody tr th:only-of-type {\n",
              "        vertical-align: middle;\n",
              "    }\n",
              "\n",
              "    .dataframe tbody tr th {\n",
              "        vertical-align: top;\n",
              "    }\n",
              "\n",
              "    .dataframe thead th {\n",
              "        text-align: right;\n",
              "    }\n",
              "</style>\n",
              "<table border=\"1\" class=\"dataframe\">\n",
              "  <thead>\n",
              "    <tr style=\"text-align: right;\">\n",
              "      <th></th>\n",
              "      <th>Trial</th>\n",
              "      <th>Bird</th>\n",
              "      <th>Brain Region</th>\n",
              "      <th>Stimuli</th>\n",
              "      <th>Count</th>\n",
              "    </tr>\n",
              "  </thead>\n",
              "  <tbody>\n",
              "    <tr>\n",
              "      <th>1730</th>\n",
              "      <td>Spike 1</td>\n",
              "      <td>gr0965_4</td>\n",
              "      <td>OV</td>\n",
              "      <td>flatrip</td>\n",
              "      <td>349.0</td>\n",
              "    </tr>\n",
              "    <tr>\n",
              "      <th>1731</th>\n",
              "      <td>Spike 2</td>\n",
              "      <td>gr0965_4</td>\n",
              "      <td>OV</td>\n",
              "      <td>flatrip</td>\n",
              "      <td>402.0</td>\n",
              "    </tr>\n",
              "    <tr>\n",
              "      <th>1732</th>\n",
              "      <td>Spike 3</td>\n",
              "      <td>gr0965_4</td>\n",
              "      <td>OV</td>\n",
              "      <td>flatrip</td>\n",
              "      <td>338.0</td>\n",
              "    </tr>\n",
              "    <tr>\n",
              "      <th>1733</th>\n",
              "      <td>Spike 4</td>\n",
              "      <td>gr0965_4</td>\n",
              "      <td>OV</td>\n",
              "      <td>flatrip</td>\n",
              "      <td>376.0</td>\n",
              "    </tr>\n",
              "    <tr>\n",
              "      <th>1734</th>\n",
              "      <td>Spike 5</td>\n",
              "      <td>gr0965_4</td>\n",
              "      <td>OV</td>\n",
              "      <td>flatrip</td>\n",
              "      <td>362.0</td>\n",
              "    </tr>\n",
              "    <tr>\n",
              "      <th>1735</th>\n",
              "      <td>Spike 6</td>\n",
              "      <td>gr0965_4</td>\n",
              "      <td>OV</td>\n",
              "      <td>flatrip</td>\n",
              "      <td>324.0</td>\n",
              "    </tr>\n",
              "    <tr>\n",
              "      <th>1736</th>\n",
              "      <td>Spike 7</td>\n",
              "      <td>gr0965_4</td>\n",
              "      <td>OV</td>\n",
              "      <td>flatrip</td>\n",
              "      <td>336.0</td>\n",
              "    </tr>\n",
              "    <tr>\n",
              "      <th>1737</th>\n",
              "      <td>Spike 8</td>\n",
              "      <td>gr0965_4</td>\n",
              "      <td>OV</td>\n",
              "      <td>flatrip</td>\n",
              "      <td>366.0</td>\n",
              "    </tr>\n",
              "    <tr>\n",
              "      <th>1738</th>\n",
              "      <td>Spike 9</td>\n",
              "      <td>gr0965_4</td>\n",
              "      <td>OV</td>\n",
              "      <td>flatrip</td>\n",
              "      <td>385.0</td>\n",
              "    </tr>\n",
              "    <tr>\n",
              "      <th>1739</th>\n",
              "      <td>Spike 10</td>\n",
              "      <td>gr0965_4</td>\n",
              "      <td>OV</td>\n",
              "      <td>flatrip</td>\n",
              "      <td>347.0</td>\n",
              "    </tr>\n",
              "  </tbody>\n",
              "</table>\n",
              "</div>"
            ],
            "text/plain": [
              "         Trial      Bird Brain Region  Stimuli  Count\n",
              "1730   Spike 1  gr0965_4           OV  flatrip  349.0\n",
              "1731   Spike 2  gr0965_4           OV  flatrip  402.0\n",
              "1732   Spike 3  gr0965_4           OV  flatrip  338.0\n",
              "1733   Spike 4  gr0965_4           OV  flatrip  376.0\n",
              "1734   Spike 5  gr0965_4           OV  flatrip  362.0\n",
              "1735   Spike 6  gr0965_4           OV  flatrip  324.0\n",
              "1736   Spike 7  gr0965_4           OV  flatrip  336.0\n",
              "1737   Spike 8  gr0965_4           OV  flatrip  366.0\n",
              "1738   Spike 9  gr0965_4           OV  flatrip  385.0\n",
              "1739  Spike 10  gr0965_4           OV  flatrip  347.0"
            ]
          },
          "metadata": {
            "tags": []
          },
          "execution_count": 633
        }
      ]
    },
    {
      "cell_type": "markdown",
      "metadata": {
        "id": "bfi2onWMZdX2",
        "colab_type": "text"
      },
      "source": [
        "- Let me explain the data in the frame(s) above. \n",
        "\n",
        "- **First:** for the OV brain region, these birds were only tested for the conspecific and flatrip stimuli. They were not tested for and there is no data for songrip. So this is discarded.\n",
        "\n",
        "- **Next:** for the conspecific stimuli the birds were tested over a course of 20 trials - resulting in 20 recordings of spikes over time. For flatrip they were only tested over 10 trials. \n",
        "\n",
        "- **Next:** the *count* column is the number of spikes recorded per trial for that stimulus. This only takes into account spikes recorded *after* the stimulus was presented to the birds (no negative time).\n",
        "\n",
        "- In the code cell below, I show how I obtained these numbers for each trial."
      ]
    },
    {
      "cell_type": "code",
      "metadata": {
        "id": "cozeWztLan6j",
        "colab_type": "code",
        "colab": {}
      },
      "source": [
        "# DON'T RUN CELL\n",
        "# A list of how many spike trials were used for conspecific stimuli\n",
        "spike_num_conspec = ['spike1', 'spike2', 'spike3', 'spike4', 'spike5', 'spike6', 'spike7', 'spike8', \n",
        "                     'spike9', 'spike10', 'spike11', 'spike12', 'spike13', 'spike14', 'spike15', \n",
        "                     'spike16', 'spike17', 'spike18', 'spike19', 'spike20']\n",
        "\n",
        "# A list of how many spike trials were used for flatrip stimuli\n",
        "spike_num_flatrip = ['spike1', 'spike2', 'spike3', 'spike4', 'spike5', 'spike6', 'spike7', 'spike8', \n",
        "                     'spike9', 'spike10']\n",
        "\n",
        "# This works in my jupyter notebooks, but not in Colab, so I did all the computation and used the numbers for the excel spreadsheet\n",
        "# Meaning this cell is not meant to be ran, it is just to show the code I used\n",
        "\n",
        "# One for conspecific\n",
        "\n",
        "addr = '/Users/madelinewilliams/Desktop/crcns 2/aa2/all_cells/gr0965_4/conspecific'   # The direct file path for my specific download\n",
        "os.chdir(addr)\n",
        "for stim in spike_num_conspec:\n",
        "    #count the number of spikes with NO negatives\n",
        "    positive_num = []\n",
        "    neg = '-'\n",
        "    stim_spike = open(stim,\"r\")\n",
        "    contents = stim_spike.read()\n",
        "    split = contents.split()\n",
        "    arr = np.array(split)\n",
        "    for x in arr:\n",
        "        if neg not in x:\n",
        "            positive_num.append(x)\n",
        "    print(len(positive_num))    \n",
        "\n",
        "# One for flatrip\n",
        "\n",
        "addr = '/Users/madelinewilliams/Desktop/crcns 2/aa2/all_cells/gr0965_4/flatrip'\n",
        "os.chdir(addr)\n",
        "for stim in spike_num_flatrip:\n",
        "    #count the number of spikes with NO negatives\n",
        "    positive_num = []\n",
        "    neg = '-'\n",
        "    stim_spike = open(stim,\"r\")\n",
        "    contents = stim_spike.read()\n",
        "    split = contents.split()\n",
        "    arr = np.array(split)\n",
        "    for x in arr:\n",
        "        if neg not in x:\n",
        "            positive_num.append(x)\n",
        "    print(len(positive_num))    \n",
        "\n",
        "# This resulted in the amount of spikes per trial that were NOT negative numbers"
      ],
      "execution_count": 0,
      "outputs": []
    },
    {
      "cell_type": "markdown",
      "metadata": {
        "id": "0XRG2noBbwRo",
        "colab_type": "text"
      },
      "source": [
        "### **Choosing a Model**\n",
        "\n",
        "Since this data is finite numbers within finite 'bins' of birds with criteria and is not continuous, it is a probability mass function and not a probability density function.\n",
        "\n",
        "For this reason a Poisson distribution should be used as a probability mass function.\n",
        "\n",
        "Since there are multiple individuals/trials for this data set, we need a heirarchical model."
      ]
    },
    {
      "cell_type": "markdown",
      "metadata": {
        "id": "DzQ0Xzlm9HSI",
        "colab_type": "text"
      },
      "source": [
        "### **Poisson Distribution - Understanding the Application**\n",
        "\n",
        "- A poisson distribution is a probability mass function that determines the probability of a number of events happening in a given time interval.\n",
        "- The only parameter for Poisson distribution is **$\\lambda$** - which is the **expected** number of occurances (mean spike count)\n",
        "- The axes of the plot will include k and P, where k is the **actual** occurance (spikes counted for each trial) and P is the **probability** of k (probability the counted number of spikes for a trial is close to average)\n",
        "- The data of counting spikes will benefit from a Poisson distribution as it will show, with a pmf, what the distribution of spike counts is for each bird (for each stimulus for a specific brain region, of course) compared to an expected value of occurance."
      ]
    },
    {
      "cell_type": "code",
      "metadata": {
        "id": "ZCi037C7tB_o",
        "colab_type": "code",
        "outputId": "3bed3d2f-43b4-4e2e-c7be-4c6ccb661152",
        "colab": {
          "base_uri": "https://localhost:8080/",
          "height": 51
        }
      },
      "source": [
        "# Estimate and set a lambda for the randomized bird for each stimuli\n",
        "\n",
        "average_1 = chosen_stim_con['Count'].mean()\n",
        "average_2 = chosen_stim_flat['Count'].mean()\n",
        "\n",
        "print('The average of conspecific counts for bird', random_bird[0], 'is', average_1)\n",
        "print('The average of flatrip counts for bird', random_bird[0], 'is', average_2)"
      ],
      "execution_count": 634,
      "outputs": [
        {
          "output_type": "stream",
          "text": [
            "The average of conspecific counts for bird gr0965_4 is 358.55\n",
            "The average of flatrip counts for bird gr0965_4 is 358.5\n"
          ],
          "name": "stdout"
        }
      ]
    },
    {
      "cell_type": "code",
      "metadata": {
        "id": "UzrkiByh8XqX",
        "colab_type": "code",
        "colab": {}
      },
      "source": [
        "# Define a model to calculate the probability of count given the mean for each stimuli\n",
        "\n",
        "def get_poisson_con(row):\n",
        "  # parameters\n",
        "  k = row['Count']\n",
        "  mu = average_1\n",
        "\n",
        "  # calculate the poisson probability for those parameters\n",
        "  prob1 = poisson.pmf(k, mu)\n",
        "\n",
        "  return prob1\n",
        "\n",
        "chosen_stim_con['Probability'] = chosen_stim_con.apply(get_poisson, axis = 1)\n",
        "\n",
        "# View the new dataframe including probability\n",
        "# chosen_stim_con"
      ],
      "execution_count": 0,
      "outputs": []
    },
    {
      "cell_type": "code",
      "metadata": {
        "id": "C9jwn-X7Z76y",
        "colab_type": "code",
        "colab": {
          "base_uri": "https://localhost:8080/",
          "height": 139
        },
        "outputId": "a3be9de7-b6d0-4ad7-e2cb-e08ecb9a0318"
      },
      "source": [
        "def get_poisson_flat(row):\n",
        "  # parameters\n",
        "  k = row['Count']\n",
        "  mu = average_2\n",
        "\n",
        "  # calculate the poisson probability for those parameters\n",
        "  prob2 = poisson.pmf(k, mu)\n",
        "\n",
        "  return prob2\n",
        "\n",
        "chosen_stim_flat['Probability'] = chosen_stim_flat.apply(get_poisson, axis = 1)\n",
        "\n",
        "# View the new dataframe including probability\n",
        "# chosen_stim_flat"
      ],
      "execution_count": 636,
      "outputs": [
        {
          "output_type": "stream",
          "text": [
            "/usr/local/lib/python3.6/dist-packages/ipykernel_launcher.py:11: SettingWithCopyWarning: \n",
            "A value is trying to be set on a copy of a slice from a DataFrame.\n",
            "Try using .loc[row_indexer,col_indexer] = value instead\n",
            "\n",
            "See the caveats in the documentation: https://pandas.pydata.org/pandas-docs/stable/user_guide/indexing.html#returning-a-view-versus-a-copy\n",
            "  # This is added back by InteractiveShellApp.init_path()\n"
          ],
          "name": "stderr"
        }
      ]
    },
    {
      "cell_type": "code",
      "metadata": {
        "id": "ooRL2YBg-Qbq",
        "colab_type": "code",
        "colab": {}
      },
      "source": [
        "# Define the axes to graph the distribution\n",
        "x_vals_flat = chosen_stim_flat['Count'].tolist()\n",
        "y_vals_flat = chosen_stim_flat['Probability'].tolist()\n",
        "\n",
        "x_vals_con = chosen_stim_con['Count'].tolist()\n",
        "y_vals_con = chosen_stim_con['Probability'].tolist()"
      ],
      "execution_count": 0,
      "outputs": []
    },
    {
      "cell_type": "code",
      "metadata": {
        "id": "jfrKWBPF5GL3",
        "colab_type": "code",
        "colab": {
          "base_uri": "https://localhost:8080/",
          "height": 472
        },
        "outputId": "6d4d66c6-cea6-48c3-d24a-bcc19d1b05be"
      },
      "source": [
        "# Plot the distribution for conspecific and flatrip stimuli\n",
        "label_flat = 'Flatrip, λ = ' + str(average_1)\n",
        "label_con = 'Conspecific, λ = ' + str(average_2)\n",
        "\n",
        "plt.plot(x_vals_flat, y_vals_flat, 'bo', label = label_flat)\n",
        "plt.plot(x_vals_con, y_vals_con, 'ro', label = label_con)\n",
        "\n",
        "plt.xlabel('k')\n",
        "plt.ylabel('P(X=k)')\n",
        "plt.title('Poisson Disribution for bird: ' + random_bird[0])\n",
        "plt.legend()\n",
        "plt.show()"
      ],
      "execution_count": 638,
      "outputs": [
        {
          "output_type": "display_data",
          "data": {
            "image/png": "[encoded data removed]",
            "text/plain": [
              "<Figure size 640x480 with 1 Axes>"
            ]
          },
          "metadata": {
            "tags": []
          }
        }
      ]
    },
    {
      "cell_type": "markdown",
      "metadata": {
        "id": "AE2gjhlMmsFf",
        "colab_type": "text"
      },
      "source": [
        "- **Note:** the number of trials varies between 20 and 10 for conspecific vs. flatrip data. This is simply the data that the researchers provided, and they did not explain why fewer trials we used for flatrip stimuli."
      ]
    },
    {
      "cell_type": "markdown",
      "metadata": {
        "id": "d3LblVcImLg1",
        "colab_type": "text"
      },
      "source": [
        "### **Statistical Significance?**\n",
        "\n",
        "Given that we now have a Poisson distribution of the two stimuli, are the numbers significantly different?\n",
        "\n",
        "To do this I will use a Student's T-Test to determine if the average means are actually statistically different. "
      ]
    },
    {
      "cell_type": "code",
      "metadata": {
        "id": "r2AFO-Mtnbeb",
        "colab_type": "code",
        "colab": {
          "base_uri": "https://localhost:8080/",
          "height": 51
        },
        "outputId": "ba8099e8-e4b9-4bff-cc5e-935e013c7c52"
      },
      "source": [
        "A = chosen_stim_con['Count']\n",
        "B = chosen_stim_flat['Count']\n",
        "\n",
        "# I am using scipy's internal T Test function to compare the counts of conspecific and flatrip stimuli\n",
        "\n",
        "a, b = stats.ttest_ind(A, B)\n",
        "print(\"t-value = \" + str(a))\n",
        "print(\"p-value = \" + str(b))"
      ],
      "execution_count": 639,
      "outputs": [
        {
          "output_type": "stream",
          "text": [
            "t-value = 0.0036750028685139597\n",
            "p-value = 0.9970938372947576\n"
          ],
          "name": "stdout"
        }
      ]
    },
    {
      "cell_type": "markdown",
      "metadata": {
        "id": "nNab4FX3re_-",
        "colab_type": "text"
      },
      "source": [
        "- The p-value and t-value resulting for each bird's counts will be different.\n",
        "- The lower the p-value, the better. I have found for some birds the p-value is *very* lower (Ex: pupi0414_7: pvalue = 1.27e-09), while for others it is much higher (Ex:  blahp9904_8: pvalue = 0.8279)\n",
        "- For many of the birds I have individually run (not the total 58 birds), I have received a p-value > 0.05. This means there is a higher likelihood that the differences in data occured by chance.\n",
        "- The resulting t-values show a ratio of how different the two stimuli groups are from *each other* vs. different within themselves.\n"
      ]
    },
    {
      "cell_type": "markdown",
      "metadata": {
        "id": "sTbI0NcSamca",
        "colab_type": "text"
      },
      "source": [
        "### **Summary of Findings**\n",
        "\n",
        "Ultimately, the goal is to determine if there is a significant difference in probability of spiking for the different sounds.\n",
        "\n",
        "This would indicate that finches' may have an affinity for one sound over the other.\n",
        "\n",
        "My plan of action was to use a Poisson distribution pmf model to plot the probability of spiking per trial with the.\n",
        "\n",
        "Each time all these cells are run, a new bird will be chosen randomly and the plot will reflect its own unique distribution. Similarly, each time a new bird is chose a T-Test is conducted to gather statistical evidence between the two stimuli.\n",
        "\n",
        "The **$\\lambda$** value, which represents the expected number of spikes counted, was calculated from mean number of spikes for a specific stimulus across trials. This is the best fitting parameter because it is the ideal number of spikes recorded for each trial and correspondingly plots the actual spike counts around it. This way we can visualize the probability differences in average spike count for each stimuli.\n",
        "\n",
        "Given that the T-Tests for each run of the dataframes produced inconsistent p-values ranging from low liklihood of chance to very high and small t-values, there is ultimately *no* significant difference in the data. My hypothesis is therefore denied.\n"
      ]
    },
    {
      "cell_type": "markdown",
      "metadata": {
        "id": "XrRbpZpt9uNT",
        "colab_type": "text"
      },
      "source": [
        "\n",
        "**Final thoughts**\n",
        "\n",
        "It *is* still interesting to note that for many of the birds, flatrip stimuli produced a higher number of spikes (on average) across trials. *If* this difference was statistically significant, it would still deny my hypothesis. \n",
        "\n",
        "I would theorize that this could be possible due to habituation of natural song for the finches. Meaning the finches are used to hearing natural song, which habituates neuronal firing, and when white noise/unnatural sound is heard, reactivates neurons causing \"surprise\". \n",
        "\n",
        "Yet since the difference is not significant and pretty variable, this may not be the case either.\n"
      ]
    },
    {
      "cell_type": "markdown",
      "metadata": {
        "id": "YH_XIwaLAoQR",
        "colab_type": "text"
      },
      "source": [
        "### **Citations**\n",
        "\n",
        "**Data:**\n",
        "\n",
        "Theunissen, Frederic E.; Gill, Patrick; Noopur, Amin; Zhang, Junli; Woolley, Sarah M. N.; Fremouw, Thane (2011): Single-unit recordings from multiple auditory areas in male zebra finches. \n",
        "\n",
        "CRCNS.org.\n",
        "http://dx.doi.org/10.6080/10.6080/K0JW8BSC\n",
        "\n",
        "Sarah Woolley (sw2277@columbia.edu\n",
        "\n",
        "Thane Fremouw (thane_fremouw@umit.maine.edu)\n",
        "\n",
        "**Code and Information:**\n",
        "\n",
        "Sederberg, Per, Quantified Cognition, (2020), GitHub repository, https://github.com/compmem/QuantCog \n",
        "\n",
        "Including:\n",
        "- 05 Bayesian Regression\n",
        "- 06 Bayesian Data Analysis\n",
        "\n",
        "T-Test information help:\n",
        "https://towardsdatascience.com/inferential-statistics-series-t-test-using-numpy-2718f8f9bf2f\n",
        "\n",
        "Poisson distribution information help:\n",
        "https://en.wikipedia.org/wiki/Poisson_distribution#Parameter_estimation\n",
        "\n",
        "\n"
      ]
    },
    {
      "cell_type": "markdown",
      "metadata": {
        "id": "Fv2NBLjbE8h8",
        "colab_type": "text"
      },
      "source": [
        "P.s. Thank you for your support and understanding throughout this process :)"
      ]
    }
  ]
}