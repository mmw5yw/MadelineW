{
  "nbformat": 4,
  "nbformat_minor": 0,
  "metadata": {
    "colab": {
      "name": "Option 0 QC",
      "provenance": [],
      "collapsed_sections": [],
      "include_colab_link": true
    },
    "kernelspec": {
      "name": "python3",
      "display_name": "Python 3"
    }
  },
  "cells": [
    {
      "cell_type": "markdown",
      "metadata": {
        "id": "view-in-github",
        "colab_type": "text"
      },
      "source": [
        "<a href=\"https://colab.research.google.com/github/mmw5yw/MadelineW/blob/master/Option_0_QC.ipynb\" target=\"_parent\"><img src=\"https://colab.research.google.com/assets/colab-badge.svg\" alt=\"Open In Colab\"/></a>"
      ]
    },
    {
      "cell_type": "markdown",
      "metadata": {
        "id": "2Tt8_ZmOKnEw",
        "colab_type": "text"
      },
      "source": [
        "# **Final Project Madeline Williams**\n",
        "\n",
        "mmw5yw\n",
        "\n",
        "Final project for Quantified Cognition\n",
        "\n",
        "**Option 0**: I chose this option because I have become comfortable with the data and code for this data set. I wanted to see if I could apply concepts from this class to the data to further analyze it with statistical models.\n",
        "\n",
        "I used data set aa-2 from course Computational Neuroscience. This is not my own data, but was provided to me.\n",
        "\n",
        "The researchers who obtained this data are **Sarah M.N. Wolley** and **Thane Fremouw**.\n"
      ]
    },
    {
      "cell_type": "markdown",
      "metadata": {
        "id": "dCDEtMIGKogR",
        "colab_type": "text"
      },
      "source": [
        "### **Introduction**\n",
        "\n",
        "The researchers who gathered this data were interested in the neural computations associated with zebra finches as their neurons respond to different types of sound stimuli that range between natural and unnatural sounds.\n",
        "\n",
        "The overarching goal of the project is to assess the finches’ optimization or preference for a certain song type by evaluating neuron spikes in their song control system.\n",
        "\n",
        "The birds were tested for multiple anatomical brain regions:\n",
        "- Nucleus Oviodalis (OV)\n",
        "- Caudal Mesopallium (CM)\n",
        "- Primary Forebrain (from subareas L1, L2a, L2b, L3 and L)\n",
        "- Mesencephalicus lateral dorsalis (MLd)\n",
        "\n",
        "Each bird is tested with stimuli from two or all three different classes of sounds.\n",
        "\n",
        "The spiking response was recorded for the stimuli across multiple trials."
      ]
    },
    {
      "cell_type": "markdown",
      "metadata": {
        "id": "i61z3dbqKurC",
        "colab_type": "text"
      },
      "source": [
        "### **Classes of sounds**\n",
        "\n",
        "The sounds used to stimulate the Zebra Finches ranged from least natural, medium, most natural.\n",
        "\n",
        "These are listed below in order of most to least natural:\n",
        "- Conspecific: natural birdsong from Zebra Finches\n",
        "- Songrip: ripple stimuli with same modulation of song\n",
        "- Flatrip: modulation limited noise with flat modulation spectrum\n",
        "\n",
        "The Flatrip sound has the most white noise and is the most unnatural to the birds."
      ]
    },
    {
      "cell_type": "markdown",
      "metadata": {
        "id": "uqrxvW4nkw-_",
        "colab_type": "text"
      },
      "source": [
        "### **Hypothesis**\n",
        "\n",
        "I may expect to see a higher number of spikes for the conspecific stimuli, or the most natural sound stimuli, showing the finches have an affinity for natural song over white noise. \n",
        "\n",
        "This would make sense, since evolutionarily and biologically speaking, finches communicate with natural song and do not necessarily ever hear white noise in the wild.\n",
        "\n",
        "I would expect the finches neurological song system to be attuned to hearing natural song - to upkeep communication, nurturing, and learning in nature. "
      ]
    },
    {
      "cell_type": "markdown",
      "metadata": {
        "id": "DE2vhagxcIVL",
        "colab_type": "text"
      },
      "source": [
        "### **Importing the Data**"
      ]
    },
    {
      "cell_type": "markdown",
      "metadata": {
        "id": "rN8KI09OK0Er",
        "colab_type": "text"
      },
      "source": [
        "- **First** import all the necessary accessories"
      ]
    },
    {
      "cell_type": "code",
      "metadata": {
        "id": "F7jo7NnrK3Ew",
        "colab_type": "code",
        "outputId": "7ff202be-710a-463d-b2e4-21d3ea41ca2b",
        "colab": {
          "base_uri": "https://localhost:8080/",
          "height": 683
        }
      },
      "source": [
        "# I wrote this notebook on a new Google Colab document so I could run these accessories\n",
        "!pip install git+https://github.com/arviz-devs/arviz\n",
        "!wget https://raw.githubusercontent.com/compmem/QuantCog/2020_Spring/notebooks/dists.py\n"
      ],
      "execution_count": 319,
      "outputs": [
        {
          "output_type": "stream",
          "text": [
            "Collecting git+https://github.com/arviz-devs/arviz\n",
            "  Cloning https://github.com/arviz-devs/arviz to /tmp/pip-req-build-5e491dyl\n",
            "  Running command git clone -q https://github.com/arviz-devs/arviz /tmp/pip-req-build-5e491dyl\n",
            "  Installing build dependencies ... \u001b[?25l\u001b[?25hdone\n",
            "  Getting requirements to build wheel ... \u001b[?25l\u001b[?25hdone\n",
            "    Preparing wheel metadata ... \u001b[?25l\u001b[?25hdone\n",
            "Requirement already satisfied (use --upgrade to upgrade): arviz==0.7.0 from git+https://github.com/arviz-devs/arviz in /usr/local/lib/python3.6/dist-packages\n",
            "Requirement already satisfied: pandas>=0.23 in /usr/local/lib/python3.6/dist-packages (from arviz==0.7.0) (1.0.3)\n",
            "Requirement already satisfied: numpy>=1.12 in /usr/local/lib/python3.6/dist-packages (from arviz==0.7.0) (1.18.3)\n",
            "Requirement already satisfied: xarray>=0.11 in /usr/local/lib/python3.6/dist-packages (from arviz==0.7.0) (0.15.1)\n",
            "Requirement already satisfied: scipy>=0.19 in /usr/local/lib/python3.6/dist-packages (from arviz==0.7.0) (1.4.1)\n",
            "Requirement already satisfied: matplotlib>=3.0 in /usr/local/lib/python3.6/dist-packages (from arviz==0.7.0) (3.2.1)\n",
            "Requirement already satisfied: netcdf4 in /usr/local/lib/python3.6/dist-packages (from arviz==0.7.0) (1.5.3)\n",
            "Requirement already satisfied: packaging in /usr/local/lib/python3.6/dist-packages (from arviz==0.7.0) (20.3)\n",
            "Requirement already satisfied: pytz>=2017.2 in /usr/local/lib/python3.6/dist-packages (from pandas>=0.23->arviz==0.7.0) (2018.9)\n",
            "Requirement already satisfied: python-dateutil>=2.6.1 in /usr/local/lib/python3.6/dist-packages (from pandas>=0.23->arviz==0.7.0) (2.8.1)\n",
            "Requirement already satisfied: setuptools>=41.2 in /usr/local/lib/python3.6/dist-packages (from xarray>=0.11->arviz==0.7.0) (46.1.3)\n",
            "Requirement already satisfied: kiwisolver>=1.0.1 in /usr/local/lib/python3.6/dist-packages (from matplotlib>=3.0->arviz==0.7.0) (1.2.0)\n",
            "Requirement already satisfied: cycler>=0.10 in /usr/local/lib/python3.6/dist-packages (from matplotlib>=3.0->arviz==0.7.0) (0.10.0)\n",
            "Requirement already satisfied: pyparsing!=2.0.4,!=2.1.2,!=2.1.6,>=2.0.1 in /usr/local/lib/python3.6/dist-packages (from matplotlib>=3.0->arviz==0.7.0) (2.4.7)\n",
            "Requirement already satisfied: cftime in /usr/local/lib/python3.6/dist-packages (from netcdf4->arviz==0.7.0) (1.1.2)\n",
            "Requirement already satisfied: six in /usr/local/lib/python3.6/dist-packages (from packaging->arviz==0.7.0) (1.12.0)\n",
            "Building wheels for collected packages: arviz\n",
            "  Building wheel for arviz (PEP 517) ... \u001b[?25l\u001b[?25hdone\n",
            "  Created wheel for arviz: filename=arviz-0.7.0-cp36-none-any.whl size=2635798 sha256=2c4a25f571152664e7461b52531f53aae2becdbc7c80f3940b8cbb86f4c4c67d\n",
            "  Stored in directory: /tmp/pip-ephem-wheel-cache-z_gm9kv9/wheels/93/b7/76/fe5931eb8154ca105ee91ddc249c6e1eaaa7b06988bdf8a400\n",
            "Successfully built arviz\n",
            "--2020-05-08 20:46:12--  https://raw.githubusercontent.com/compmem/QuantCog/2020_Spring/notebooks/dists.py\n",
            "Resolving raw.githubusercontent.com (raw.githubusercontent.com)... 151.101.0.133, 151.101.64.133, 151.101.128.133, ...\n",
            "Connecting to raw.githubusercontent.com (raw.githubusercontent.com)|151.101.0.133|:443... connected.\n",
            "HTTP request sent, awaiting response... 200 OK\n",
            "Length: 1077 (1.1K) [text/plain]\n",
            "Saving to: ‘dists.py.6’\n",
            "\n",
            "dists.py.6          100%[===================>]   1.05K  --.-KB/s    in 0s      \n",
            "\n",
            "2020-05-08 20:46:12 (46.5 MB/s) - ‘dists.py.6’ saved [1077/1077]\n",
            "\n"
          ],
          "name": "stdout"
        }
      ]
    },
    {
      "cell_type": "code",
      "metadata": {
        "id": "Iarj2lKPLIrZ",
        "colab_type": "code",
        "colab": {}
      },
      "source": [
        "%matplotlib inline\n",
        "\n",
        "import numpy as np\n",
        "import pandas as pd\n",
        "from scipy import stats\n",
        "import os\n",
        "import matplotlib.pyplot as plt; plt.rcdefaults()\n",
        "import pymc3 as pm\n",
        "import dists\n",
        "import requests\n",
        "import io\n",
        "import theano.tensor as T\n",
        "import arviz as az\n",
        "from sklearn import preprocessing\n",
        "import seaborn as sns\n"
      ],
      "execution_count": 0,
      "outputs": []
    },
    {
      "cell_type": "markdown",
      "metadata": {
        "id": "S27Mi4AZLgrS",
        "colab_type": "text"
      },
      "source": [
        "- **Next** import the cell regions library of data.\n",
        "- This is a csv. titled cell_regions_excel."
      ]
    },
    {
      "cell_type": "code",
      "metadata": {
        "id": "sS8vkqOTNlcq",
        "colab_type": "code",
        "outputId": "169f47db-b052-498f-a290-81fe14c60561",
        "colab": {
          "resources": {
            "http://localhost:8080/nbextensions/google.colab/files.js": {
              "data": "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",
              "ok": true,
              "headers": [
                [
                  "content-type",
                  "application/javascript"
                ]
              ],
              "status": 200,
              "status_text": ""
            }
          },
          "base_uri": "https://localhost:8080/",
          "height": 71
        }
      },
      "source": [
        "# I used a file finder for Colab that lets me choose the file I want to upload\n",
        "# This allows whomever to download the required data sets and upload from their specific device,\n",
        "# instead of hard coding for a direct path\n",
        "\n",
        "from google.colab import files\n",
        "uploaded = files.upload()"
      ],
      "execution_count": 380,
      "outputs": [
        {
          "output_type": "display_data",
          "data": {
            "text/html": [
              "\n",
              "     <input type=\"file\" id=\"files-dd77aefb-8422-46aa-b847-3b2176b9e69f\" name=\"files[]\" multiple disabled />\n",
              "     <output id=\"result-dd77aefb-8422-46aa-b847-3b2176b9e69f\">\n",
              "      Upload widget is only available when the cell has been executed in the\n",
              "      current browser session. Please rerun this cell to enable.\n",
              "      </output>\n",
              "      <script src=\"/nbextensions/google.colab/files.js\"></script> "
            ],
            "text/plain": [
              "<IPython.core.display.HTML object>"
            ]
          },
          "metadata": {
            "tags": []
          }
        },
        {
          "output_type": "stream",
          "text": [
            "Saving cell_regions_excel.csv to cell_regions_excel (9).csv\n"
          ],
          "name": "stdout"
        }
      ]
    },
    {
      "cell_type": "code",
      "metadata": {
        "id": "6R9_5R6vOLh1",
        "colab_type": "code",
        "colab": {}
      },
      "source": [
        "# Here I have uploaded the cell regions into pandas so I can sort through the birds and the corresponding tested brain regions\n",
        "\n",
        "cell_regions = pd.read_csv(io.BytesIO(uploaded['cell_regions_excel.csv']))\n",
        "\n",
        "# Example of how to capture only the birds tested for brain region OV\n",
        "\n",
        "cell_regions_OV = cell_regions[cell_regions['L1']=='OV']\n"
      ],
      "execution_count": 0,
      "outputs": []
    },
    {
      "cell_type": "markdown",
      "metadata": {
        "id": "tqdfRQiAS1ND",
        "colab_type": "text"
      },
      "source": [
        "- Now I have all the data in a pandas file of my choosing. \n",
        "\n",
        "- I chose brain region **Nucelus Oviodalis** because it seemed significant within the reading. \n",
        "\n",
        "- The paper associates a uniqueness with the OV brain region and the data set - given that there is importance in song learning for this region in finches. The researchers are unsure of its ability in determining preference between different types of song stimuli.\n",
        "\n",
        "- The exact words in the research were \"prevalent tuning to intermediate, spectral, and temporal modulations is unique to OV\" \n"
      ]
    },
    {
      "cell_type": "markdown",
      "metadata": {
        "id": "yI3DQqc3Yaqq",
        "colab_type": "text"
      },
      "source": [
        "- **Upload** the data from an excel file. \n",
        "\n",
        "- This upload contains each birds name, each spike trial for that bird, the brain region recorded from (OV), stimuli used, and count of spikes for each trial.\n",
        "- This is a csv. titled Birds_region_stim_count"
      ]
    },
    {
      "cell_type": "code",
      "metadata": {
        "id": "V8xAM44tX8da",
        "colab_type": "code",
        "outputId": "4c50c96a-8b69-42a0-987a-613be90c6f84",
        "colab": {
          "resources": {
            "http://localhost:8080/nbextensions/google.colab/files.js": {
              "data": "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",
              "ok": true,
              "headers": [
                [
                  "content-type",
                  "application/javascript"
                ]
              ],
              "status": 200,
              "status_text": ""
            }
          },
          "base_uri": "https://localhost:8080/",
          "height": 71
        }
      },
      "source": [
        "from google.colab import files\n",
        "uploaded = files.upload()"
      ],
      "execution_count": 435,
      "outputs": [
        {
          "output_type": "display_data",
          "data": {
            "text/html": [
              "\n",
              "     <input type=\"file\" id=\"files-b9cef2d6-4cce-47c4-a1ef-483df09ef93b\" name=\"files[]\" multiple disabled />\n",
              "     <output id=\"result-b9cef2d6-4cce-47c4-a1ef-483df09ef93b\">\n",
              "      Upload widget is only available when the cell has been executed in the\n",
              "      current browser session. Please rerun this cell to enable.\n",
              "      </output>\n",
              "      <script src=\"/nbextensions/google.colab/files.js\"></script> "
            ],
            "text/plain": [
              "<IPython.core.display.HTML object>"
            ]
          },
          "metadata": {
            "tags": []
          }
        },
        {
          "output_type": "stream",
          "text": [
            "Saving Birds_region_stim_count.csv to Birds_region_stim_count (8).csv\n"
          ],
          "name": "stdout"
        }
      ]
    },
    {
      "cell_type": "markdown",
      "metadata": {
        "id": "DhMxFHOLTHdK",
        "colab_type": "text"
      },
      "source": [
        "- I will want to focus on a specific bird for this brain region, and access the recorded spikes for each stimuli over trials."
      ]
    },
    {
      "cell_type": "code",
      "metadata": {
        "id": "IkbrF7VcOmFS",
        "colab_type": "code",
        "outputId": "febd1833-c6c9-4941-98db-5c5d488e32af",
        "colab": {
          "base_uri": "https://localhost:8080/",
          "height": 34
        }
      },
      "source": [
        "from random import *\n",
        "\n",
        "# I am choosing a random bird from the list - just for fun\n",
        "# The length of the list of only OV birds is 59\n",
        "\n",
        "# Bird pupi0414_2 does not have data for flatrip stimuli, so if its index is chosen we need to 'reshuffle'\n",
        "y = randint(1,59)\n",
        "if y != 6:\n",
        "  x = y\n",
        "else:\n",
        "  print('Forbidden bird! Use this one instead:')\n",
        "\n",
        "random_bird = cell_regions_OV.values[x]\n",
        "\n",
        "# This is our randomized bird's name \n",
        "# It will be different each time so the data can stay fresh\n",
        "\n",
        "random_bird[0]"
      ],
      "execution_count": 584,
      "outputs": [
        {
          "output_type": "execute_result",
          "data": {
            "text/plain": [
              "'gr1070_3'"
            ]
          },
          "metadata": {
            "tags": []
          },
          "execution_count": 584
        }
      ]
    },
    {
      "cell_type": "markdown",
      "metadata": {
        "id": "7G_O4pV1X7cw",
        "colab_type": "text"
      },
      "source": [
        "- Now, I will create a pandas dataframe for this specific bird from the file upload from earlier.\n",
        "\n",
        "- This should include the chosen bird, corresponding brain region, stimuli, and the count of spikes for each trial.\n",
        "\n",
        "- I have already put the data into an excel spreadsheet so it is accessible to pandas.\n",
        "\n",
        "- Note: one of the birds, pupi0414_2, does not have data for the flatrip stimuli. If this bird is chosen from the random generator, the analysis will not work."
      ]
    },
    {
      "cell_type": "code",
      "metadata": {
        "id": "sdfqIqN-gwgP",
        "colab_type": "code",
        "colab": {}
      },
      "source": [
        "bird = pd.read_csv(io.BytesIO(uploaded['Birds_region_stim_count.csv']))\n",
        "\n",
        "columns = ('Spike', 'Brain Region', 'Stimuli', 'Count')"
      ],
      "execution_count": 0,
      "outputs": []
    },
    {
      "cell_type": "markdown",
      "metadata": {
        "id": "0GxqkRryQFf6",
        "colab_type": "text"
      },
      "source": [
        "- Now that the data is loaded into pandas, we can specify which bird and which stimulus we want to focus on."
      ]
    },
    {
      "cell_type": "code",
      "metadata": {
        "id": "m4O-Z3o1gyiN",
        "colab_type": "code",
        "outputId": "ba769d2e-4935-4221-e815-a64b997d6fe6",
        "colab": {
          "base_uri": "https://localhost:8080/",
          "height": 669
        }
      },
      "source": [
        "# Specify the randomly chosen bird \n",
        "\n",
        "chosen_bird = bird[bird['Bird'] == random_bird[0]]\n",
        "\n",
        "# Now specify the chosen stimulus, this will be done twice for the conspecifc and the flatrip\n",
        "\n",
        "chosen_stim_con = chosen_bird[chosen_bird['Stimuli'] == 'conspecific']\n",
        "\n",
        "chosen_stim_con"
      ],
      "execution_count": 586,
      "outputs": [
        {
          "output_type": "execute_result",
          "data": {
            "text/html": [
              "<div>\n",
              "<style scoped>\n",
              "    .dataframe tbody tr th:only-of-type {\n",
              "        vertical-align: middle;\n",
              "    }\n",
              "\n",
              "    .dataframe tbody tr th {\n",
              "        vertical-align: top;\n",
              "    }\n",
              "\n",
              "    .dataframe thead th {\n",
              "        text-align: right;\n",
              "    }\n",
              "</style>\n",
              "<table border=\"1\" class=\"dataframe\">\n",
              "  <thead>\n",
              "    <tr style=\"text-align: right;\">\n",
              "      <th></th>\n",
              "      <th>Trial</th>\n",
              "      <th>Bird</th>\n",
              "      <th>Brain Region</th>\n",
              "      <th>Stimuli</th>\n",
              "      <th>Count</th>\n",
              "    </tr>\n",
              "  </thead>\n",
              "  <tbody>\n",
              "    <tr>\n",
              "      <th>900</th>\n",
              "      <td>Spike 1</td>\n",
              "      <td>gr1070_3</td>\n",
              "      <td>OV</td>\n",
              "      <td>conspecific</td>\n",
              "      <td>491.0</td>\n",
              "    </tr>\n",
              "    <tr>\n",
              "      <th>901</th>\n",
              "      <td>Spike 2</td>\n",
              "      <td>gr1070_3</td>\n",
              "      <td>OV</td>\n",
              "      <td>conspecific</td>\n",
              "      <td>449.0</td>\n",
              "    </tr>\n",
              "    <tr>\n",
              "      <th>902</th>\n",
              "      <td>Spike 3</td>\n",
              "      <td>gr1070_3</td>\n",
              "      <td>OV</td>\n",
              "      <td>conspecific</td>\n",
              "      <td>445.0</td>\n",
              "    </tr>\n",
              "    <tr>\n",
              "      <th>903</th>\n",
              "      <td>Spike 4</td>\n",
              "      <td>gr1070_3</td>\n",
              "      <td>OV</td>\n",
              "      <td>conspecific</td>\n",
              "      <td>493.0</td>\n",
              "    </tr>\n",
              "    <tr>\n",
              "      <th>904</th>\n",
              "      <td>Spike 5</td>\n",
              "      <td>gr1070_3</td>\n",
              "      <td>OV</td>\n",
              "      <td>conspecific</td>\n",
              "      <td>408.0</td>\n",
              "    </tr>\n",
              "    <tr>\n",
              "      <th>905</th>\n",
              "      <td>Spike 6</td>\n",
              "      <td>gr1070_3</td>\n",
              "      <td>OV</td>\n",
              "      <td>conspecific</td>\n",
              "      <td>575.0</td>\n",
              "    </tr>\n",
              "    <tr>\n",
              "      <th>906</th>\n",
              "      <td>Spike 7</td>\n",
              "      <td>gr1070_3</td>\n",
              "      <td>OV</td>\n",
              "      <td>conspecific</td>\n",
              "      <td>600.0</td>\n",
              "    </tr>\n",
              "    <tr>\n",
              "      <th>907</th>\n",
              "      <td>Spike 8</td>\n",
              "      <td>gr1070_3</td>\n",
              "      <td>OV</td>\n",
              "      <td>conspecific</td>\n",
              "      <td>598.0</td>\n",
              "    </tr>\n",
              "    <tr>\n",
              "      <th>908</th>\n",
              "      <td>Spike 9</td>\n",
              "      <td>gr1070_3</td>\n",
              "      <td>OV</td>\n",
              "      <td>conspecific</td>\n",
              "      <td>511.0</td>\n",
              "    </tr>\n",
              "    <tr>\n",
              "      <th>909</th>\n",
              "      <td>Spike 10</td>\n",
              "      <td>gr1070_3</td>\n",
              "      <td>OV</td>\n",
              "      <td>conspecific</td>\n",
              "      <td>434.0</td>\n",
              "    </tr>\n",
              "    <tr>\n",
              "      <th>910</th>\n",
              "      <td>Spike 11</td>\n",
              "      <td>gr1070_3</td>\n",
              "      <td>OV</td>\n",
              "      <td>conspecific</td>\n",
              "      <td>506.0</td>\n",
              "    </tr>\n",
              "    <tr>\n",
              "      <th>911</th>\n",
              "      <td>Spike 12</td>\n",
              "      <td>gr1070_3</td>\n",
              "      <td>OV</td>\n",
              "      <td>conspecific</td>\n",
              "      <td>450.0</td>\n",
              "    </tr>\n",
              "    <tr>\n",
              "      <th>912</th>\n",
              "      <td>Spike 13</td>\n",
              "      <td>gr1070_3</td>\n",
              "      <td>OV</td>\n",
              "      <td>conspecific</td>\n",
              "      <td>484.0</td>\n",
              "    </tr>\n",
              "    <tr>\n",
              "      <th>913</th>\n",
              "      <td>Spike 14</td>\n",
              "      <td>gr1070_3</td>\n",
              "      <td>OV</td>\n",
              "      <td>conspecific</td>\n",
              "      <td>448.0</td>\n",
              "    </tr>\n",
              "    <tr>\n",
              "      <th>914</th>\n",
              "      <td>Spike 15</td>\n",
              "      <td>gr1070_3</td>\n",
              "      <td>OV</td>\n",
              "      <td>conspecific</td>\n",
              "      <td>535.0</td>\n",
              "    </tr>\n",
              "    <tr>\n",
              "      <th>915</th>\n",
              "      <td>Spike 16</td>\n",
              "      <td>gr1070_3</td>\n",
              "      <td>OV</td>\n",
              "      <td>conspecific</td>\n",
              "      <td>448.0</td>\n",
              "    </tr>\n",
              "    <tr>\n",
              "      <th>916</th>\n",
              "      <td>Spike 17</td>\n",
              "      <td>gr1070_3</td>\n",
              "      <td>OV</td>\n",
              "      <td>conspecific</td>\n",
              "      <td>483.0</td>\n",
              "    </tr>\n",
              "    <tr>\n",
              "      <th>917</th>\n",
              "      <td>Spike 18</td>\n",
              "      <td>gr1070_3</td>\n",
              "      <td>OV</td>\n",
              "      <td>conspecific</td>\n",
              "      <td>516.0</td>\n",
              "    </tr>\n",
              "    <tr>\n",
              "      <th>918</th>\n",
              "      <td>Spike 19</td>\n",
              "      <td>gr1070_3</td>\n",
              "      <td>OV</td>\n",
              "      <td>conspecific</td>\n",
              "      <td>457.0</td>\n",
              "    </tr>\n",
              "    <tr>\n",
              "      <th>919</th>\n",
              "      <td>Spike 20</td>\n",
              "      <td>gr1070_3</td>\n",
              "      <td>OV</td>\n",
              "      <td>conspecific</td>\n",
              "      <td>521.0</td>\n",
              "    </tr>\n",
              "  </tbody>\n",
              "</table>\n",
              "</div>"
            ],
            "text/plain": [
              "        Trial      Bird Brain Region      Stimuli  Count\n",
              "900   Spike 1  gr1070_3           OV  conspecific  491.0\n",
              "901   Spike 2  gr1070_3           OV  conspecific  449.0\n",
              "902   Spike 3  gr1070_3           OV  conspecific  445.0\n",
              "903   Spike 4  gr1070_3           OV  conspecific  493.0\n",
              "904   Spike 5  gr1070_3           OV  conspecific  408.0\n",
              "905   Spike 6  gr1070_3           OV  conspecific  575.0\n",
              "906   Spike 7  gr1070_3           OV  conspecific  600.0\n",
              "907   Spike 8  gr1070_3           OV  conspecific  598.0\n",
              "908   Spike 9  gr1070_3           OV  conspecific  511.0\n",
              "909  Spike 10  gr1070_3           OV  conspecific  434.0\n",
              "910  Spike 11  gr1070_3           OV  conspecific  506.0\n",
              "911  Spike 12  gr1070_3           OV  conspecific  450.0\n",
              "912  Spike 13  gr1070_3           OV  conspecific  484.0\n",
              "913  Spike 14  gr1070_3           OV  conspecific  448.0\n",
              "914  Spike 15  gr1070_3           OV  conspecific  535.0\n",
              "915  Spike 16  gr1070_3           OV  conspecific  448.0\n",
              "916  Spike 17  gr1070_3           OV  conspecific  483.0\n",
              "917  Spike 18  gr1070_3           OV  conspecific  516.0\n",
              "918  Spike 19  gr1070_3           OV  conspecific  457.0\n",
              "919  Spike 20  gr1070_3           OV  conspecific  521.0"
            ]
          },
          "metadata": {
            "tags": []
          },
          "execution_count": 586
        }
      ]
    },
    {
      "cell_type": "code",
      "metadata": {
        "id": "T19GhPa5s-vW",
        "colab_type": "code",
        "outputId": "4768347e-fae1-4ad0-b564-345800602e97",
        "colab": {
          "base_uri": "https://localhost:8080/",
          "height": 359
        }
      },
      "source": [
        "# Another for flatrip\n",
        "# Specify the randomly chosen bird \n",
        "\n",
        "chosen_bird = bird[bird['Bird'] == random_bird[0]]\n",
        "\n",
        "# Now specify the chosen stimulus, this will be done twice for the conspecifc and the flatrip\n",
        "\n",
        "chosen_stim_flat = chosen_bird[chosen_bird['Stimuli'] == 'flatrip']\n",
        "\n",
        "chosen_stim_flat"
      ],
      "execution_count": 587,
      "outputs": [
        {
          "output_type": "execute_result",
          "data": {
            "text/html": [
              "<div>\n",
              "<style scoped>\n",
              "    .dataframe tbody tr th:only-of-type {\n",
              "        vertical-align: middle;\n",
              "    }\n",
              "\n",
              "    .dataframe tbody tr th {\n",
              "        vertical-align: top;\n",
              "    }\n",
              "\n",
              "    .dataframe thead th {\n",
              "        text-align: right;\n",
              "    }\n",
              "</style>\n",
              "<table border=\"1\" class=\"dataframe\">\n",
              "  <thead>\n",
              "    <tr style=\"text-align: right;\">\n",
              "      <th></th>\n",
              "      <th>Trial</th>\n",
              "      <th>Bird</th>\n",
              "      <th>Brain Region</th>\n",
              "      <th>Stimuli</th>\n",
              "      <th>Count</th>\n",
              "    </tr>\n",
              "  </thead>\n",
              "  <tbody>\n",
              "    <tr>\n",
              "      <th>920</th>\n",
              "      <td>Spike 1</td>\n",
              "      <td>gr1070_3</td>\n",
              "      <td>OV</td>\n",
              "      <td>flatrip</td>\n",
              "      <td>546.0</td>\n",
              "    </tr>\n",
              "    <tr>\n",
              "      <th>921</th>\n",
              "      <td>Spike 2</td>\n",
              "      <td>gr1070_3</td>\n",
              "      <td>OV</td>\n",
              "      <td>flatrip</td>\n",
              "      <td>555.0</td>\n",
              "    </tr>\n",
              "    <tr>\n",
              "      <th>922</th>\n",
              "      <td>Spike 3</td>\n",
              "      <td>gr1070_3</td>\n",
              "      <td>OV</td>\n",
              "      <td>flatrip</td>\n",
              "      <td>504.0</td>\n",
              "    </tr>\n",
              "    <tr>\n",
              "      <th>923</th>\n",
              "      <td>Spike 4</td>\n",
              "      <td>gr1070_3</td>\n",
              "      <td>OV</td>\n",
              "      <td>flatrip</td>\n",
              "      <td>555.0</td>\n",
              "    </tr>\n",
              "    <tr>\n",
              "      <th>924</th>\n",
              "      <td>Spike 5</td>\n",
              "      <td>gr1070_3</td>\n",
              "      <td>OV</td>\n",
              "      <td>flatrip</td>\n",
              "      <td>572.0</td>\n",
              "    </tr>\n",
              "    <tr>\n",
              "      <th>925</th>\n",
              "      <td>Spike 6</td>\n",
              "      <td>gr1070_3</td>\n",
              "      <td>OV</td>\n",
              "      <td>flatrip</td>\n",
              "      <td>497.0</td>\n",
              "    </tr>\n",
              "    <tr>\n",
              "      <th>926</th>\n",
              "      <td>Spike 7</td>\n",
              "      <td>gr1070_3</td>\n",
              "      <td>OV</td>\n",
              "      <td>flatrip</td>\n",
              "      <td>498.0</td>\n",
              "    </tr>\n",
              "    <tr>\n",
              "      <th>927</th>\n",
              "      <td>Spike 8</td>\n",
              "      <td>gr1070_3</td>\n",
              "      <td>OV</td>\n",
              "      <td>flatrip</td>\n",
              "      <td>544.0</td>\n",
              "    </tr>\n",
              "    <tr>\n",
              "      <th>928</th>\n",
              "      <td>Spike 9</td>\n",
              "      <td>gr1070_3</td>\n",
              "      <td>OV</td>\n",
              "      <td>flatrip</td>\n",
              "      <td>566.0</td>\n",
              "    </tr>\n",
              "    <tr>\n",
              "      <th>929</th>\n",
              "      <td>Spike 10</td>\n",
              "      <td>gr1070_3</td>\n",
              "      <td>OV</td>\n",
              "      <td>flatrip</td>\n",
              "      <td>456.0</td>\n",
              "    </tr>\n",
              "  </tbody>\n",
              "</table>\n",
              "</div>"
            ],
            "text/plain": [
              "        Trial      Bird Brain Region  Stimuli  Count\n",
              "920   Spike 1  gr1070_3           OV  flatrip  546.0\n",
              "921   Spike 2  gr1070_3           OV  flatrip  555.0\n",
              "922   Spike 3  gr1070_3           OV  flatrip  504.0\n",
              "923   Spike 4  gr1070_3           OV  flatrip  555.0\n",
              "924   Spike 5  gr1070_3           OV  flatrip  572.0\n",
              "925   Spike 6  gr1070_3           OV  flatrip  497.0\n",
              "926   Spike 7  gr1070_3           OV  flatrip  498.0\n",
              "927   Spike 8  gr1070_3           OV  flatrip  544.0\n",
              "928   Spike 9  gr1070_3           OV  flatrip  566.0\n",
              "929  Spike 10  gr1070_3           OV  flatrip  456.0"
            ]
          },
          "metadata": {
            "tags": []
          },
          "execution_count": 587
        }
      ]
    },
    {
      "cell_type": "markdown",
      "metadata": {
        "id": "bfi2onWMZdX2",
        "colab_type": "text"
      },
      "source": [
        "- Let me explain the data in the frame(s) above. \n",
        "\n",
        "- **First:** for the OV brain region, these birds were only tested for the conspecific and flatrip stimuli. They were not tested for and there is no data for songrip. So this is discarded.\n",
        "\n",
        "- **Next:** for the conspecific stimuli the birds were tested over a course of 20 trials - resulting in 20 recordings of spikes over time. For flatrip they were only tested over 10 trials. \n",
        "\n",
        "- **Next:** the *count* column is the number of spikes recorded per trial for that stimulus. This only takes into account spikes recorded *after* the stimulus was presented to the birds (no negative time).\n",
        "\n",
        "- In the code cell below, I show how I obtained these numbers for each trial."
      ]
    },
    {
      "cell_type": "code",
      "metadata": {
        "id": "cozeWztLan6j",
        "colab_type": "code",
        "colab": {}
      },
      "source": [
        "# DON'T RUN CELL\n",
        "# A list of how many spike trials were used for conspecific stimuli\n",
        "spike_num_conspec = ['spike1', 'spike2', 'spike3', 'spike4', 'spike5', 'spike6', 'spike7', 'spike8', \n",
        "                     'spike9', 'spike10', 'spike11', 'spike12', 'spike13', 'spike14', 'spike15', \n",
        "                     'spike16', 'spike17', 'spike18', 'spike19', 'spike20']\n",
        "\n",
        "# A list of how many spike trials were used for flatrip stimuli\n",
        "spike_num_flatrip = ['spike1', 'spike2', 'spike3', 'spike4', 'spike5', 'spike6', 'spike7', 'spike8', \n",
        "                     'spike9', 'spike10']\n",
        "\n",
        "# This works in my jupyter notebooks, but not in Colab, so I did all the computation and used the numbers for the excel spreadsheet\n",
        "# Meaning this cell is not meant to be ran, it is just to show the code I used\n",
        "\n",
        "# One for conspecific\n",
        "\n",
        "addr = '/Users/madelinewilliams/Desktop/crcns 2/aa2/all_cells/gr0965_4/conspecific'   # The direct file path for my specific download\n",
        "os.chdir(addr)\n",
        "for stim in spike_num_conspec:\n",
        "    #count the number of spikes with NO negatives\n",
        "    positive_num = []\n",
        "    neg = '-'\n",
        "    stim_spike = open(stim,\"r\")\n",
        "    contents = stim_spike.read()\n",
        "    split = contents.split()\n",
        "    arr = np.array(split)\n",
        "    for x in arr:\n",
        "        if neg not in x:\n",
        "            positive_num.append(x)\n",
        "    print(len(positive_num))    \n",
        "\n",
        "# One for flatrip\n",
        "\n",
        "addr = '/Users/madelinewilliams/Desktop/crcns 2/aa2/all_cells/gr0965_4/flatrip'\n",
        "os.chdir(addr)\n",
        "for stim in spike_num_flatrip:\n",
        "    #count the number of spikes with NO negatives\n",
        "    positive_num = []\n",
        "    neg = '-'\n",
        "    stim_spike = open(stim,\"r\")\n",
        "    contents = stim_spike.read()\n",
        "    split = contents.split()\n",
        "    arr = np.array(split)\n",
        "    for x in arr:\n",
        "        if neg not in x:\n",
        "            positive_num.append(x)\n",
        "    print(len(positive_num))    \n",
        "\n",
        "# This resulted in the amount of spikes per trial that were NOT negative numbers"
      ],
      "execution_count": 0,
      "outputs": []
    },
    {
      "cell_type": "markdown",
      "metadata": {
        "id": "0XRG2noBbwRo",
        "colab_type": "text"
      },
      "source": [
        "### **Choosing a Model**\n",
        "\n",
        "Since this data is finite numbers within finite 'bins' of birds with criteria and is not continuous, it is a probability mass function and not a probability density function.\n",
        "\n",
        "For this reason a Poisson distribution should be used as a probability mass function.\n",
        "\n",
        "Since there are multiple individuals/trials for this data set, we need a heirarchical model."
      ]
    },
    {
      "cell_type": "markdown",
      "metadata": {
        "id": "DzQ0Xzlm9HSI",
        "colab_type": "text"
      },
      "source": [
        "### **Poisson Distribution - Understanding the Application**\n",
        "\n",
        "- A poisson distribution is a probability mass function that determines the probability of a number of events happening in a given time interval.\n",
        "- The only parameter for Poisson distribution is **$\\lambda$** - which is the **expected** number of occurances (mean spike count)\n",
        "- The axes of the plot will include k and P, where k is the **actual** occurance (spikes counted for each trial) and P is the **probability** of k (probability the counted number of spikes for a trial is close to average)\n",
        "- The data of counting spikes will benefit from a Poisson distribution as it will show, with a pmf, what the distribution of spike counts is for each bird (for each stimulus for a specific brain region, of course) compared to an expected value of occurance."
      ]
    },
    {
      "cell_type": "code",
      "metadata": {
        "id": "ZCi037C7tB_o",
        "colab_type": "code",
        "outputId": "f3c711fd-3702-40ee-b940-1c485502f86a",
        "colab": {
          "base_uri": "https://localhost:8080/",
          "height": 51
        }
      },
      "source": [
        "# Estimate and set a lambda for the randomized bird for each stimuli\n",
        "\n",
        "average_1 = chosen_stim_con['Count'].mean()\n",
        "average_2 = chosen_stim_flat['Count'].mean()\n",
        "\n",
        "print('The average of conspecific counts for bird', random_bird[0], 'is', average_1)\n",
        "print('The average of flatrip counts for bird', random_bird[0], 'is', average_2)"
      ],
      "execution_count": 588,
      "outputs": [
        {
          "output_type": "stream",
          "text": [
            "The average of conspecific counts for bird gr1070_3 is 492.6\n",
            "The average of flatrip counts for bird gr1070_3 is 529.3\n"
          ],
          "name": "stdout"
        }
      ]
    },
    {
      "cell_type": "code",
      "metadata": {
        "id": "UzrkiByh8XqX",
        "colab_type": "code",
        "colab": {}
      },
      "source": [
        "# Define a model to calculate the probability of count given the mean for each stimuli\n",
        "\n",
        "def get_poisson_con(row):\n",
        "  # parameters\n",
        "  k = row['Count']\n",
        "  mu = average_1\n",
        "\n",
        "  # calculate the poisson probability for those parameters\n",
        "  prob1 = poisson.pmf(k, mu)\n",
        "\n",
        "  return prob1\n",
        "\n",
        "chosen_stim_con['Probability'] = chosen_stim_con.apply(get_poisson, axis = 1)\n",
        "\n",
        "# View the new dataframe including probability\n",
        "# chosen_stim_con"
      ],
      "execution_count": 0,
      "outputs": []
    },
    {
      "cell_type": "code",
      "metadata": {
        "id": "C9jwn-X7Z76y",
        "colab_type": "code",
        "colab": {
          "base_uri": "https://localhost:8080/",
          "height": 139
        },
        "outputId": "2a188412-8c02-453e-8b16-b0a3a9bec205"
      },
      "source": [
        "def get_poisson_flat(row):\n",
        "  # parameters\n",
        "  k = row['Count']\n",
        "  mu = average_2\n",
        "\n",
        "  # calculate the poisson probability for those parameters\n",
        "  prob2 = poisson.pmf(k, mu)\n",
        "\n",
        "  return prob2\n",
        "\n",
        "chosen_stim_flat['Probability'] = chosen_stim_flat.apply(get_poisson, axis = 1)\n",
        "\n",
        "# View the new dataframe including probability\n",
        "# chosen_stim_flat"
      ],
      "execution_count": 590,
      "outputs": [
        {
          "output_type": "stream",
          "text": [
            "/usr/local/lib/python3.6/dist-packages/ipykernel_launcher.py:11: SettingWithCopyWarning: \n",
            "A value is trying to be set on a copy of a slice from a DataFrame.\n",
            "Try using .loc[row_indexer,col_indexer] = value instead\n",
            "\n",
            "See the caveats in the documentation: https://pandas.pydata.org/pandas-docs/stable/user_guide/indexing.html#returning-a-view-versus-a-copy\n",
            "  # This is added back by InteractiveShellApp.init_path()\n"
          ],
          "name": "stderr"
        }
      ]
    },
    {
      "cell_type": "code",
      "metadata": {
        "id": "ooRL2YBg-Qbq",
        "colab_type": "code",
        "colab": {}
      },
      "source": [
        "# Define the axes to graph the distribution\n",
        "x_vals_flat = chosen_stim_flat['Count'].tolist()\n",
        "y_vals_flat = chosen_stim_flat['Probability'].tolist()\n",
        "\n",
        "x_vals_con = chosen_stim_con['Count'].tolist()\n",
        "y_vals_con = chosen_stim_con['Probability'].tolist()"
      ],
      "execution_count": 0,
      "outputs": []
    },
    {
      "cell_type": "code",
      "metadata": {
        "id": "jfrKWBPF5GL3",
        "colab_type": "code",
        "colab": {
          "base_uri": "https://localhost:8080/",
          "height": 472
        },
        "outputId": "d6f0d5a8-89c2-410e-c636-7fe3ce781f8f"
      },
      "source": [
        "# Plot the distribution for conspecific and flatrip stimuli\n",
        "label_flat = 'Flatrip, λ = ' + str(average_1)\n",
        "label_con = 'Conspecific, λ = ' + str(average_2)\n",
        "\n",
        "plt.plot(x_vals_flat, y_vals_flat, 'bo', label = label_flat)\n",
        "plt.plot(x_vals_con, y_vals_con, 'ro', label = label_con)\n",
        "\n",
        "plt.xlabel('k')\n",
        "plt.ylabel('P(X=k)')\n",
        "plt.title('Poisson Disribution for bird: ' + random_bird[0])\n",
        "plt.legend()\n",
        "plt.show()"
      ],
      "execution_count": 592,
      "outputs": [
        {
          "output_type": "display_data",
          "data": {
            "image/png": "[encoded data removed]",
            "text/plain": [
              "<Figure size 640x480 with 1 Axes>"
            ]
          },
          "metadata": {
            "tags": []
          }
        }
      ]
    },
    {
      "cell_type": "markdown",
      "metadata": {
        "id": "AE2gjhlMmsFf",
        "colab_type": "text"
      },
      "source": [
        "- **Note:** the number of trials varies between 20 and 10 for conspecific vs. flatrip data. This is simply the data that the researchers provided, and they did not explain why fewer trials we used for flatrip stimuli."
      ]
    },
    {
      "cell_type": "markdown",
      "metadata": {
        "id": "d3LblVcImLg1",
        "colab_type": "text"
      },
      "source": [
        "### **Statistical Significance?**\n",
        "\n",
        "Given that we now have a Poisson distribution of the two stimuli, are the numbers significantly different?\n",
        "\n",
        "To do this I will use a Student's T-Test to determine if the average means are actually statistically different. "
      ]
    },
    {
      "cell_type": "code",
      "metadata": {
        "id": "r2AFO-Mtnbeb",
        "colab_type": "code",
        "colab": {
          "base_uri": "https://localhost:8080/",
          "height": 51
        },
        "outputId": "6af41ce3-c0ad-4aa9-b8e8-29cf5dd2f62d"
      },
      "source": [
        "A = chosen_stim_con['Count']\n",
        "B = chosen_stim_flat['Count']\n",
        "\n",
        "# I am using scipy's internal T Test function to compare the counts of conspecific and flatrip stimuli\n",
        "\n",
        "a, b = stats.ttest_ind(A, B)\n",
        "print(\"t-value = \" + str(a))\n",
        "print(\"p-value = \" + str(b))"
      ],
      "execution_count": 593,
      "outputs": [
        {
          "output_type": "stream",
          "text": [
            "t-value = -1.9212539116012601\n",
            "p-value = 0.06493356193997442\n"
          ],
          "name": "stdout"
        }
      ]
    },
    {
      "cell_type": "markdown",
      "metadata": {
        "id": "nNab4FX3re_-",
        "colab_type": "text"
      },
      "source": [
        "- The p-value and t-value resulting for each bird's counts will be different.\n",
        "- The lower the p-value, the better. I have found for some birds the p-value is *very* lower (Ex: pupi0414_7: pvalue = 1.27e-09), while for others it is much higher (Ex:  blahp9904_8: pvalue = 0.8279)\n",
        "- For many of the birds I have individually run (not the total 58 birds), I have received a p-value > 0.05. This means there is a higher likelihood that the differences in data occured by chance.\n",
        "- The resulting t-values show a ratio of how different the two stimuli groups are from *each other* vs. different within themselves.\n"
      ]
    },
    {
      "cell_type": "markdown",
      "metadata": {
        "id": "sTbI0NcSamca",
        "colab_type": "text"
      },
      "source": [
        "### **Summary of Findings**\n",
        "\n",
        "Ultimately, the goal is to determine if there is a significant difference in probability of spiking for the different sounds.\n",
        "\n",
        "This would indicate that finches' may have an affinity for one sound over the other.\n",
        "\n",
        "My plan of action was to use a Poisson distribution pmf model to plot the probability of spiking per trial with the.\n",
        "\n",
        "Each time all these cells are run, a new bird will be chosen randomly and the plot will reflect its own unique distribution. Similarly, each time a new bird is chose a T-Test is conducted to gather statistical evidence between the two stimuli.\n",
        "\n",
        "The **$\\lambda$** value, which represents the expected number of spikes counted, was calculated from mean number of spikes for a specific stimulus across trials. This is the best fitting parameter because it is the ideal number of spikes recorded for each trial and correspondingly plots the actual spike counts around it. This way we can visualize the probability differences in average spike count for each stimuli.\n",
        "\n",
        "Given that the T-Tests for each run of the dataframes produced inconsistent p-values ranging from low liklihood of chance to very high and small t-values, there is ultimately *no* significant difference in the data. My hypothesis is therefore denied.\n"
      ]
    },
    {
      "cell_type": "markdown",
      "metadata": {
        "id": "XrRbpZpt9uNT",
        "colab_type": "text"
      },
      "source": [
        "\n",
        "**Final thoughts**\n",
        "\n",
        "It *is* still interesting to note that for many of the birds, flatrip stimuli produced a higher number of spikes (on average) across trials. *If* this difference was statistically significant, it would still deny my hypothesis. \n",
        "\n",
        "I would theorize that this could be possible due to habituation of natural song for the finches. Meaning the finches are used to hearing natural song, which habituates neuronal firing, and when white noise/unnatural sound is heard, reactivates neurons causing \"surprise\". \n",
        "\n",
        "Yet since the difference is not significant and pretty variable, this may not be the case either.\n"
      ]
    },
    {
      "cell_type": "markdown",
      "metadata": {
        "id": "YH_XIwaLAoQR",
        "colab_type": "text"
      },
      "source": [
        "### **Citations**\n",
        "\n",
        "**Data:**\n",
        "\n",
        "Theunissen, Frederic E.; Gill, Patrick; Noopur, Amin; Zhang, Junli; Woolley, Sarah M. N.; Fremouw, Thane (2011): Single-unit recordings from multiple auditory areas in male zebra finches. \n",
        "\n",
        "CRCNS.org.\n",
        "http://dx.doi.org/10.6080/10.6080/K0JW8BSC\n",
        "\n",
        "Sarah Woolley (sw2277@columbia.edu\n",
        "\n",
        "Thane Fremouw (thane_fremouw@umit.maine.edu)\n",
        "\n",
        "**Code and Information:**\n",
        "\n",
        "Sederberg, Per, Quantified Cognition, (2020), GitHub repository, https://github.com/compmem/QuantCog \n",
        "\n",
        "Including:\n",
        "- 05 Bayesian Regression\n",
        "- 06 Bayesian Data Analysis\n",
        "\n",
        "T-Test information help:\n",
        "https://towardsdatascience.com/inferential-statistics-series-t-test-using-numpy-2718f8f9bf2f\n",
        "\n",
        "Poisson distribution information help:\n",
        "https://en.wikipedia.org/wiki/Poisson_distribution#Parameter_estimation\n",
        "\n",
        "\n"
      ]
    },
    {
      "cell_type": "markdown",
      "metadata": {
        "id": "Fv2NBLjbE8h8",
        "colab_type": "text"
      },
      "source": [
        "P.s. Thank you for your support and understanding throughout this process :)"
      ]
    }
  ]
}